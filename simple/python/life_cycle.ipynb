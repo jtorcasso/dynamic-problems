{
 "metadata": {
  "name": ""
 },
 "nbformat": 3,
 "nbformat_minor": 0,
 "worksheets": [
  {
   "cells": [
    {
     "cell_type": "markdown",
     "metadata": {},
     "source": [
      "The Economic World\n",
      "==================\n",
      "\n",
      "In this world, agents live for $T$ periods, the last $R$ periods of which are in retirement. "
     ]
    },
    {
     "cell_type": "code",
     "collapsed": false,
     "input": [
      "T = 45\n",
      "R = 15"
     ],
     "language": "python",
     "metadata": {},
     "outputs": [],
     "prompt_number": 1
    },
    {
     "cell_type": "markdown",
     "metadata": {},
     "source": [
      "Utility\n",
      "-------\n",
      "\n",
      "\\begin{equation}\n",
      "    U(C_t,L_t) = \\frac{C_t^{1-\\gamma}}{1-\\gamma} - \\psi L_t \n",
      "\\end{equation}\n",
      "\n",
      ", where $0 \\leq \\gamma \\leq 1$, $C_t$ is consumption and $L_t \\in \\{0,1\\}$ is labor supply. "
     ]
    },
    {
     "cell_type": "code",
     "collapsed": false,
     "input": [
      "import numpy as np\n",
      "\n",
      "gamma = 1.5\n",
      "psi   = 0.003\n",
      "\n",
      "def utility(C, L):\n",
      "    '''utility function\n",
      "    \n",
      "    Parameters\n",
      "    ----------\n",
      "    C : array\n",
      "        values of consumption\n",
      "    L : array\n",
      "        dichotomous labor supply\n",
      "    \n",
      "    Returns\n",
      "    -------\n",
      "    U : array\n",
      "        level of utility\n",
      "    '''\n",
      "    \n",
      "    U = (C**(1-gamma))/(1-gamma) - psi*L\n",
      "    \n",
      "    U[C <= 0.00000001] = -np.inf\n",
      "    \n",
      "    return U"
     ],
     "language": "python",
     "metadata": {},
     "outputs": [],
     "prompt_number": 2
    },
    {
     "cell_type": "markdown",
     "metadata": {},
     "source": [
      "Budget Constraint\n",
      "-----------------\n",
      "\n",
      "\\begin{equation}\n",
      "    C_t + A_t = Y_t + (1+r)A_{t-1}\n",
      "\\end{equation}\n",
      "\n",
      ", where savings is $A_t$ and income is $Y_t$, with $C_t \\geq 0$ and $A_T = 0$, $\\forall t$. Therefore, the agent has no debt or bequests. The earnings process is piecewise and taken to be exogenous.\n",
      "\n",
      "Earnings Process\n",
      "----------------\n",
      "\n",
      "\\begin{equation}\n",
      " Y_t =\n",
      "  \\begin{cases}\n",
      "   \\text{max}\\{0, 15000 e^{\\epsilon_t}\\} & \\text{if } t < T-R \\\\\n",
      "   \\text{max}\\{0, 5000 e^{\\epsilon_t}\\}  & \\text{if } t \\geq T-R\n",
      "  \\end{cases}\n",
      "\\end{equation}\n",
      "\n",
      ", where $\\epsilon_t$ is drawn from a markov process with transition probabilities:\n",
      "\n",
      "\\begin{equation}\n",
      "    PROB(i,j) = \\Phi_{\\sigma}(\\text{abs}(\\epsilon_i - \\epsilon_j) + \\Delta) - \\Phi_{\\sigma}(\\text{abs}(\\epsilon_i - \\epsilon_j) + \\Delta)\n",
      "\\end{equation}\n",
      "\n",
      ", where $\\Phi_{\\sigma}$ is the normal cdf with standard deviation $\\sigma$. "
     ]
    },
    {
     "cell_type": "code",
     "collapsed": false,
     "input": [
      "from scipy.stats import norm\n",
      "\n",
      "def randomwalkincome(points, sigma):\n",
      "    '''markov process of random component\n",
      "    \n",
      "    Parameters\n",
      "    ----------\n",
      "    points : int\n",
      "        number of grid points for income process\n",
      "    sigma : float\n",
      "        standard deviation for the transition\n",
      "        matrix\n",
      "    \n",
      "    Returns\n",
      "    -------\n",
      "    PROB : array\n",
      "        transition matrix from shock i to j\n",
      "    e : array\n",
      "        random shocks to income\n",
      "    '''\n",
      "    \n",
      "    e = np.linspace(-3, 3, points)\n",
      "    \n",
      "    avg = (e[-1] - e[-2])/2.\n",
      "    \n",
      "    PROB = np.zeros((points, points))\n",
      "    \n",
      "    for i in xrange(points):\n",
      "        for j in xrange(points):\n",
      "            diff = abs(e[i] - e[j])\n",
      "            PROB[i,j] = norm.cdf(diff+avg, 0, sigma) - \\\n",
      "                        norm.cdf(diff-avg, 0, sigma)\n",
      "    \n",
      "    PROB /= PROB.sum(axis=0)\n",
      "    \n",
      "    return PROB, e"
     ],
     "language": "python",
     "metadata": {},
     "outputs": [],
     "prompt_number": 3
    },
    {
     "cell_type": "markdown",
     "metadata": {},
     "source": [
      "The Agent's Problem\n",
      "===================\n",
      "\n",
      "The agent maximizes her expected lifetime discounted utility subject to a budget constraint, choosing the optimal savings levels. \n",
      "\n",
      "\\begin{align}\n",
      "    V(t) & = \\text{max}_{A_1,...,A_T} \\sum_{t=1}^T \\beta^{t-1}\\mathcal{E}[U(C_t, L_t)] \\\\\n",
      "         & = \\text{max}_{A_1,...,A_T} \\mathcal{E}[U(C_1, L_1)] + \\sum_{t=2}^T \\beta^{t-2}\\mathcal{E}[U(C_t, L_t)] \\\\\n",
      "         & = \\text{max}_{A_1,...,A_T} \\mathcal{E}[U(C_1, L_1)] + \\beta \\sum_{t=2}^T \\beta^{t-1}\\mathcal{E}[U(C_t, L_t)] \\\\\n",
      "         & = \\text{max}_{A_1,...,A_T} \\mathcal{E}[U(C_1, L_1)] + \\beta V(t+1) \\\\\n",
      "         & = \\text{max}_{A_1,...,A_T} U(C_1, L_1) + \\beta V(t+1) \\\\\n",
      "\\end{align}\n",
      "\n",
      "s.t.\n",
      "\n",
      "\\begin{align}\n",
      "    C_t + A_t & = Y_t + (1+r)A_{t-1} \\\\\n",
      "          C_t & \\geq 0 \\\\\n",
      "          A_T & = 0\n",
      "\\end{align}\n",
      "\n",
      ", where the expectation is taken with respect to the random component of the income process. To solve this problem we work backwards, starting with the terminal period, for which we know savings is zero. We compute the value function for every possible transition from state i to state j (described by the value of assets at each of these periods). Then, at each period, we maximize over the set of possible asset choices given our choice for the next period. Thus we first create grids for asset levels and income. The income has a grid because there is a random shock to income, determined by a markov process."
     ]
    },
    {
     "cell_type": "code",
     "collapsed": false,
     "input": [
      "N = 20          # Number of grid points for assets\n",
      "I = 10          # Number of grid points for random income component\n",
      "\n",
      "# Income Grid\n",
      "inc = np.hstack((15000*np.ones((1,T-R)), 5000*np.ones((1,R))))\n",
      "\n",
      "sigma = 0.5\n",
      "PROB, e = randomwalkincome(I, sigma)\n",
      "inc = np.outer(np.exp(e), inc)        # All possible values of income, all time periods\n",
      "\n",
      "# Labor Supply\n",
      "L = np.hstack((np.ones((1, T-R)), np.zeros((1, R))))\n",
      "\n",
      "# Wealth Grid (assets)\n",
      "WealthGrid= np.linspace(-200000, 2000000, N).reshape((N, 1))\n",
      "a0 = abs(WealthGrid).argmin()"
     ],
     "language": "python",
     "metadata": {},
     "outputs": [],
     "prompt_number": 4
    },
    {
     "cell_type": "markdown",
     "metadata": {},
     "source": [
      "Recursive Solution\n",
      "------------------\n",
      "Now we will solve the problem starting at the last period, working backward from there. To begin, we setup the value function and expected value function matrices. Then we setup the policy function matrix. Notice the large number of dimensions to account for all possible combinations of the state variable (assets) and random component of the income process."
     ]
    },
    {
     "cell_type": "code",
     "collapsed": false,
     "input": [
      "# Value Function Matrix\n",
      "V = np.zeros((N, T, I))\n",
      "\n",
      "# Expected Value Function Matrix\n",
      "EV = np.zeros((N, T, I))\n",
      "\n",
      "# Policy Function Matrix\n",
      "P = np.zeros((N, T, I))\n",
      "\n",
      "beta = 0.98\n",
      "r = 0.03"
     ],
     "language": "python",
     "metadata": {},
     "outputs": [],
     "prompt_number": 5
    },
    {
     "cell_type": "markdown",
     "metadata": {},
     "source": [
      "We can start by solving for the terminal period. We construct the consumption matrix with all possible values of the WealthGrid added to all possible values of the income grid. The policy function will use our terminal assumption of no bequests or debt, i.e. we choose assets closest to zero on our support."
     ]
    },
    {
     "cell_type": "code",
     "collapsed": false,
     "input": [
      "C = np.tile(WealthGrid, (1, I)) + np.tile(inc[:,T-1].T, (N, 1))\n",
      "V[:,T-1] = utility(C, L[:,T-1])\n",
      "P[:,T-1] = a0"
     ],
     "language": "python",
     "metadata": {},
     "outputs": [
      {
       "output_type": "stream",
       "stream": "stderr",
       "text": [
        "-c:22: RuntimeWarning: invalid value encountered in power\n"
       ]
      }
     ],
     "prompt_number": 6
    },
    {
     "cell_type": "markdown",
     "metadata": {},
     "source": [
      "Now we can solve for the other periods going backwards from the terminal period."
     ]
    },
    {
     "cell_type": "code",
     "collapsed": false,
     "input": [
      "for t in xrange(T-2, -1, -1):\n",
      "    \n",
      "    # Obtaining expected value of value function\n",
      "    # in future\n",
      "    for i in xrange(I):\n",
      "        ev = np.zeros(N)\n",
      "        for j in xrange(I):\n",
      "            ev += PROB[j, i]*V[:,t+1,j]\n",
      "        ev[np.isnan(ev)] = -np.inf\n",
      "        EV[:,t+1,i] = ev\n",
      "    V_plus = np.tile(EV[:,t+1], (N,1,1))\n",
      "    \n",
      "    # Budget Constraint\n",
      "    A_t = np.tile(WealthGrid, (N,1,I))\n",
      "    Y_t = np.tile(inc[:,t], (N,N,1))\n",
      "    A_t_1 = np.tile(WealthGrid/(1+r), (N,1,I))\n",
      "    C_t = A_t + Y_t + A_t_1\n",
      "    \n",
      "    objective = utility(C, L[0,t]) + beta*V_plus\n",
      "    V[:,t] = np.squeeze(objective.max(axis=1, keepdims=True))\n",
      "    P[:,t] = np.squeeze(objective.argmax(axis=1))\n",
      "    print 'Period {} Completed.'.format(t+1)\n",
      "    \n",
      "P[~np.isfinite(V)] = np.nan\n",
      "    \n",
      "        "
     ],
     "language": "python",
     "metadata": {},
     "outputs": [
      {
       "output_type": "stream",
       "stream": "stdout",
       "text": [
        "Period 44 Completed.\n",
        "Period 43 Completed.\n",
        "Period 42 Completed.\n",
        "Period 41 Completed.\n",
        "Period 40 Completed.\n",
        "Period 39 Completed.\n",
        "Period 38 Completed.\n",
        "Period 37 Completed.\n",
        "Period 36 Completed.\n",
        "Period 35 Completed.\n",
        "Period 34 Completed.\n",
        "Period 33 Completed.\n",
        "Period 32 Completed.\n",
        "Period 31 Completed.\n",
        "Period 30 Completed.\n",
        "Period 29 Completed.\n",
        "Period 28 Completed.\n",
        "Period 27 Completed.\n",
        "Period 26 Completed.\n",
        "Period 25 Completed.\n",
        "Period 24 Completed.\n",
        "Period 23 Completed.\n",
        "Period 22 Completed.\n",
        "Period 21 Completed.\n",
        "Period 20 Completed.\n",
        "Period 19 Completed.\n",
        "Period 18 Completed.\n",
        "Period 17 Completed.\n",
        "Period 16 Completed.\n",
        "Period 15 Completed.\n",
        "Period 14 Completed.\n",
        "Period 13 Completed.\n",
        "Period 12 Completed.\n",
        "Period 11 Completed.\n",
        "Period 10 Completed.\n",
        "Period 9 Completed.\n",
        "Period 8 Completed.\n",
        "Period 7 Completed.\n",
        "Period 6 Completed.\n",
        "Period 5 Completed.\n",
        "Period 4 Completed.\n",
        "Period 3 Completed.\n",
        "Period 2 Completed.\n",
        "Period 1 Completed.\n"
       ]
      },
      {
       "output_type": "stream",
       "stream": "stderr",
       "text": [
        "-c:8: RuntimeWarning: invalid value encountered in multiply\n"
       ]
      }
     ],
     "prompt_number": 7
    }
   ],
   "metadata": {}
  }
 ]
}