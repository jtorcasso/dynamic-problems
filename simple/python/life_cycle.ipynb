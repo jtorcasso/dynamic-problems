{
 "metadata": {
  "name": ""
 },
 "nbformat": 3,
 "nbformat_minor": 0,
 "worksheets": [
  {
   "cells": [
    {
     "cell_type": "markdown",
     "metadata": {},
     "source": [
      "The Economic World\n",
      "==================\n",
      "\n",
      "In this world, agents live for $T$ periods, the last $R$ periods of which are in retirement. "
     ]
    },
    {
     "cell_type": "code",
     "collapsed": false,
     "input": [
      "T = 45\n",
      "R = 15"
     ],
     "language": "python",
     "metadata": {},
     "outputs": [],
     "prompt_number": 1
    },
    {
     "cell_type": "markdown",
     "metadata": {},
     "source": [
      "Utility\n",
      "-------\n",
      "\n",
      "\\begin{equation}\n",
      "    U(C_t,L_t) = \\frac{C_t^{1-\\gamma}}{1-\\gamma} - \\psi L_t \n",
      "\\end{equation}\n",
      "\n",
      ", where $0 \\leq \\gamma \\leq 1$, $C_t$ is consumption and $L_t \\in \\{0,1\\}$ is labor supply. Notice that we make consumption less than 0.00000001 carry extremely negative utility."
     ]
    },
    {
     "cell_type": "code",
     "collapsed": false,
     "input": [
      "import numpy as np\n",
      "\n",
      "gamma = 1.5\n",
      "psi   = 0.003\n",
      "\n",
      "def utility(C, L):\n",
      "    '''utility function\n",
      "    \n",
      "    Parameters\n",
      "    ----------\n",
      "    C : array\n",
      "        values of consumption\n",
      "    L : array\n",
      "        dichotomous labor supply\n",
      "    \n",
      "    Returns\n",
      "    -------\n",
      "    U : array\n",
      "        level of utility\n",
      "    '''\n",
      "    \n",
      "    U = (C**(1-gamma))/(1-gamma) - psi*L\n",
      "    \n",
      "    U[C <= 0.00000001] = -np.inf\n",
      "    \n",
      "    return U"
     ],
     "language": "python",
     "metadata": {},
     "outputs": [],
     "prompt_number": 2
    },
    {
     "cell_type": "markdown",
     "metadata": {},
     "source": [
      "Budget Constraint\n",
      "-----------------\n",
      "\n",
      "\\begin{equation}\n",
      "    C_t + \\frac{A_{t+1}}{1+r} = Y_t + A_t\n",
      "\\end{equation}\n",
      "\n",
      ", where future and current assets are $A_{t+1}$ and $A_t$, and income is $Y_t$, with $C_t \\geq 0$, $\\forall t$. Upon death, the agent cannot leave any debt or bequests, i.e. $A_{T+1} = 0$. The earnings process is piecewise and taken to be exogenous.\n",
      "\n",
      "Earnings Process\n",
      "----------------\n",
      "\n",
      "\\begin{equation}\n",
      " Y_t =\n",
      "  \\begin{cases}\n",
      "   15000 e^{\\epsilon_t} & \\text{if } t < T-R \\\\\n",
      "   5000 e^{\\epsilon_t}  & \\text{if } t \\geq T-R\n",
      "  \\end{cases}\n",
      "\\end{equation}\n",
      "\n",
      ", where $\\epsilon_t$ is drawn from a markov process with transition probabilities:\n",
      "\n",
      "\\begin{equation}\n",
      "    PROB(i,j) = \\Phi_{\\sigma}(\\text{abs}(\\epsilon_i - \\epsilon_j) + \\Delta) - \\Phi_{\\sigma}(\\text{abs}(\\epsilon_i - \\epsilon_j) + \\Delta)\n",
      "\\end{equation}\n",
      "\n",
      ", where $\\Phi_{\\sigma}$ is the normal cdf with standard deviation $\\sigma$. "
     ]
    },
    {
     "cell_type": "code",
     "collapsed": false,
     "input": [
      "from scipy.stats import norm\n",
      "\n",
      "def randomwalkincome(points, sigma):\n",
      "    '''markov process of random component\n",
      "    \n",
      "    Parameters\n",
      "    ----------\n",
      "    points : int\n",
      "        number of grid points for income process\n",
      "    sigma : float\n",
      "        standard deviation for the transition\n",
      "        matrix\n",
      "    \n",
      "    Returns\n",
      "    -------\n",
      "    PROB : array\n",
      "        transition matrix from shock i to j\n",
      "    e : array\n",
      "        random shocks to income\n",
      "    '''\n",
      "    \n",
      "    e = np.linspace(-3, 3, points)\n",
      "    \n",
      "    avg = (e[-1] - e[-2])/2.\n",
      "    \n",
      "    PROB = np.zeros((points, points))\n",
      "    \n",
      "    for i in xrange(points):\n",
      "        for j in xrange(points):\n",
      "            diff = abs(e[i] - e[j])\n",
      "            PROB[i,j] = norm.cdf(diff+avg, 0, sigma) - \\\n",
      "                        norm.cdf(diff-avg, 0, sigma)\n",
      "    \n",
      "    PROB /= PROB.sum(axis=0)\n",
      "    \n",
      "    return PROB, e"
     ],
     "language": "python",
     "metadata": {},
     "outputs": [],
     "prompt_number": 3
    },
    {
     "cell_type": "markdown",
     "metadata": {},
     "source": [
      "The Agent's Problem\n",
      "===================\n",
      "\n",
      "The agent maximizes her expected lifetime discounted utility subject to a budget constraint, choosing the optimal asset levels. \n",
      "\n",
      "\\begin{align}\n",
      "    V(t) & = \\text{max}_{A_1,...,A_T} \\sum_{t=1}^T \\beta^{t-1}\\mathcal{E}[U(C_t, L_t)] \\\\\n",
      "         & = \\text{max}_{A_1,...,A_T} \\mathcal{E}[U(C_1, L_1)] + \\sum_{t=2}^T \\beta^{t-2}\\mathcal{E}[U(C_t, L_t)] \\\\\n",
      "         & = \\text{max}_{A_1,...,A_T} \\mathcal{E}[U(C_1, L_1)] + \\beta \\sum_{t=2}^T \\beta^{t-1}\\mathcal{E}[U(C_t, L_t)] \\\\\n",
      "         & = \\text{max}_{A_1,...,A_T} \\mathcal{E}[U(C_1, L_1)] + \\beta V(t+1) \\\\\n",
      "         & = \\text{max}_{A_1,...,A_T} U(C_1, L_1) + \\beta V(t+1) \\\\\n",
      "\\end{align}\n",
      "\n",
      "s.t.\n",
      "\n",
      "\\begin{align}\n",
      "    C_t + \\frac{A_{t+1}}{1+r} = Y_t + A_t \\\\\n",
      "          C_t & \\geq 0 \\\\\n",
      "          A_{T+1} & = 0\n",
      "\\end{align}\n",
      "\n",
      ", where the expectation is taken with respect to the random component of the income process. \n",
      "\n",
      "Initialization\n",
      "--------------\n",
      "We define the support of income and assets as a discrete space. The permanent component of income is fixed while working and in retirement at 15000 and 5000, respectively. The random component of income is a multiplicative shock that follows a markov process with a discrete state space."
     ]
    },
    {
     "cell_type": "code",
     "collapsed": false,
     "input": [
      "N = 1000          # Number of grid points for assets\n",
      "I = 10          # Number of grid points for random income component\n",
      "\n",
      "# Income Grid\n",
      "inc = np.hstack((15000*np.ones((1,T-R)), 5000*np.ones((1,R))))\n",
      "\n",
      "sigma = 0.5\n",
      "PROB, e = randomwalkincome(I, sigma)\n",
      "inc = np.outer(np.exp(e), inc)        # All possible values of income, all time periods\n",
      "\n",
      "# Labor Supply\n",
      "L = np.hstack((np.ones((1, T-R)), np.zeros((1, R))))\n",
      "\n",
      "# Wealth Grid (assets)\n",
      "WealthGrid= np.linspace(-200000, 2000000, N).reshape((N, 1))\n",
      "a0 = abs(WealthGrid).argmin()"
     ],
     "language": "python",
     "metadata": {},
     "outputs": [],
     "prompt_number": 4
    },
    {
     "cell_type": "markdown",
     "metadata": {},
     "source": [
      "Next, we setup the value function and expected value function matrices. Then we setup the policy function matrix. Notice the large number of dimensions to account for all possible combinations along the support of the state variable (assets) and the income process. We will use these matrices to store our data as we move recursively through the dynamic programming problem."
     ]
    },
    {
     "cell_type": "code",
     "collapsed": false,
     "input": [
      "# Value Function Matrix\n",
      "V = np.zeros((N, T, I))\n",
      "\n",
      "# Expected Value Function Matrix\n",
      "EV = np.zeros((N, T, I))\n",
      "\n",
      "# Policy Function Matrix\n",
      "P = np.zeros((N, T, I))\n",
      "\n",
      "beta = 0.98\n",
      "r = 0.03"
     ],
     "language": "python",
     "metadata": {},
     "outputs": [],
     "prompt_number": 5
    },
    {
     "cell_type": "markdown",
     "metadata": {},
     "source": [
      "Recursive Solution\n",
      "------------------\n",
      "To solve this problem we work backwards, starting with the terminal period. For this period we need not compute any expected values, as the agent knows she is dying and consumes everything. Then we proceed to the T-1 period, beginning our recursive solution, which proceeds as follows:\n",
      "\n",
      "    1. Compute the expected value (for each income state i of I) in period T of the value function by taking the weighted average of V(T), weighting by the transition probabilities.\n",
      "    2. Then we obtain the consumption level at time T-1 using the budget constraint and our known support of income and assets.\n",
      "    3. We repeat these matrices so we have a matrix for each value along the support of the state. We do this because after\n",
      "    maximizing we need the value matrix at time T-1 to have shape (N,I). That is, we pick the best next state given all possible levels of our current state.\n",
      "    4. Then we maximize the current state's value function along the support of the state and find the associated index for the policy function [JT: Shouldn't we put the value of assets in the policy function, not the index?]"
     ]
    },
    {
     "cell_type": "code",
     "collapsed": false,
     "input": [
      "C = np.tile(WealthGrid, (1, I)) + np.tile(inc[:,T-1].T, (N, 1))\n",
      "V[:,T-1] = utility(C, L[:,T-1])\n",
      "P[:,T-1] = a0"
     ],
     "language": "python",
     "metadata": {},
     "outputs": [
      {
       "output_type": "stream",
       "stream": "stderr",
       "text": [
        "-c:22: RuntimeWarning: invalid value encountered in power\n"
       ]
      }
     ],
     "prompt_number": 6
    },
    {
     "cell_type": "markdown",
     "metadata": {},
     "source": [
      "The error above occured because we have some infeasible consumption levels in our grid space, but we ensure these are set to null in our utility function. Now we can solve for the other periods going backwards from the terminal period."
     ]
    },
    {
     "cell_type": "code",
     "collapsed": false,
     "input": [
      "for t in xrange(T-2, -1, -1):\n",
      "    \n",
      "    # Obtaining expected value of value function\n",
      "    # in future for each possible income state i\n",
      "    for i in xrange(I):\n",
      "        ev = np.zeros(N)\n",
      "        for j in xrange(I):\n",
      "            ev += PROB[j, i]*V[:,t+1,j]\n",
      "        ev[np.isnan(ev)] = -np.inf\n",
      "        EV[:,t+1,i] = ev\n",
      "    \n",
      "    V_next = np.tile(EV[:,t+1], (N,1,1))\n",
      "    \n",
      "    # Budget Constraint\n",
      "    A_t = np.transpose(np.tile(WealthGrid[:,:,np.newaxis], (1,N,I)), (0,1,2))\n",
      "    Y_t = np.transpose(np.tile(inc[:,t][:,np.newaxis,np.newaxis], (1,N,N)), (1,2,0))\n",
      "    A_t_1 = np.transpose(np.tile(WealthGrid[:,:,np.newaxis]/(1+r), (1,N,I)), (1,0,2))\n",
      "    C_t = A_t + Y_t - A_t_1\n",
      "    \n",
      "    objective = utility(C_t, L[0,t]) + beta*V_next\n",
      "    V[:,t] = np.squeeze(objective.max(axis=1))\n",
      "    P[:,t] = np.squeeze(objective.argmax(axis=1))\n",
      "    \n",
      "P[~np.isfinite(V)] = np.nan"
     ],
     "language": "python",
     "metadata": {},
     "outputs": [
      {
       "output_type": "stream",
       "stream": "stderr",
       "text": [
        "-c:8: RuntimeWarning: invalid value encountered in multiply\n"
       ]
      }
     ],
     "prompt_number": 7
    },
    {
     "cell_type": "markdown",
     "metadata": {},
     "source": [
      "Simulation\n",
      "----------\n",
      "Now we now what an agent will do at each time period given any level of assets and any realization of the income shock. Thus, by simulating income shocks and starting with our initial stock of assets, we can trace the agent's savings decisions across the life-cycle. We do so for 5000 agents, or specifically, 5000 realizations of life-cycle earnings shocks. Then we plot the asset profile for the average agent. "
     ]
    },
    {
     "cell_type": "code",
     "collapsed": false,
     "input": [
      "K = 5000\n",
      "\n",
      "# Simulating Income Shocks\n",
      "norm_draws = np.random.randn(T, K)\n",
      "value = np.zeros((T, K))\n",
      "value[0, :] = norm_draws[0, :]\n",
      "\n",
      "# Adding Autocorrelation to income shocks\n",
      "for t in xrange(1, T):\n",
      "    value[t, :] = value[t-1, :] + norm_draws[t, :]\n",
      "\n",
      "# Finding out where our simulated data comes close\n",
      "# to the data we had in our grid\n",
      "distI = np.zeros((T, K))\n",
      "for t in xrange(T):\n",
      "    for k in xrange(K):\n",
      "        distI[t, k] = np.argmin(abs(e - value[t, k]))\n",
      "\n",
      "distI = distI.astype('int')\n",
      "\n",
      "# Simulating Assets (the state) by \n",
      "# selecting the value of assets\n",
      "# associated with our level of simulated\n",
      "# income. Thus, we end up with the path\n",
      "# of asset choices (i.e. from t=1,...,T)\n",
      "# for all K paths of income shocks\n",
      "state = np.zeros((T, K))\n",
      "state[0, :] = P[a0+1, t, distI[0, :]]\n",
      "for t in xrange(1, T):\n",
      "    for k in xrange(K):\n",
      "        state[t, k] = P[state[t-1, k], t, distI[t, k]]\n",
      "\n",
      "state = state.astype('int')\n",
      "WealthProfile = WealthGrid[state]\n",
      "\n",
      "assets = WealthProfile.mean(axis = 1)\n",
      "\n",
      "%matplotlib inline\n",
      "\n",
      "import matplotlib.pyplot as plt\n",
      "plt.plot(xrange(T), assets)\n",
      "\n",
      "\n"
     ],
     "language": "python",
     "metadata": {},
     "outputs": [
      {
       "output_type": "stream",
       "stream": "stdout",
       "text": [
        "(1000, 1)\n"
       ]
      },
      {
       "metadata": {},
       "output_type": "pyout",
       "prompt_number": 13,
       "text": [
        "[<matplotlib.lines.Line2D at 0x7f3b89d8bdd0>]"
       ]
      },
      {
       "metadata": {},
       "output_type": "display_data",
       "png": "[encoded data removed]",
       "text": [
        "<matplotlib.figure.Figure at 0x7f3b8dde3450>"
       ]
      }
     ],
     "prompt_number": 13
    },
    {
     "cell_type": "code",
     "collapsed": false,
     "input": [],
     "language": "python",
     "metadata": {},
     "outputs": []
    }
   ],
   "metadata": {}
  }
 ]
}